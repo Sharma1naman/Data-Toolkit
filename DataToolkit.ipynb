{
  "nbformat": 4,
  "nbformat_minor": 0,
  "metadata": {
    "colab": {
      "provenance": []
    },
    "kernelspec": {
      "name": "python3",
      "display_name": "Python 3"
    },
    "language_info": {
      "name": "python"
    }
  },
  "cells": [
    {
      "cell_type": "markdown",
      "source": [
        "#Data Toolkit"
      ],
      "metadata": {
        "id": "lLF4cCI03th3"
      }
    },
    {
      "cell_type": "markdown",
      "source": [
        "##Theoretical Questions"
      ],
      "metadata": {
        "id": "LJx2SwZo36uZ"
      }
    },
    {
      "cell_type": "markdown",
      "source": [
        "**Question 1.** What is NumPy, and why is it widely used in Python?\n",
        "  - NumPy, which stands for Numerical Python, is a fundamental library for numerical and scientific computing in Python. At its core, NumPy provides a powerful object called ndarray, which is a multidimensional array that allows for efficient storage and manipulation of numerical data. In addition to this array object, NumPy includes a wide range of high-level mathematical functions for performing operations such as linear algebra, statistics, and Fourier transforms. One of the key features that makes NumPy efficient is vectorization, which allows operations to be applied to entire arrays without the need for explicit loops in Python, significantly improving performance.\n",
        "\n",
        "  NumPy is widely used in Python for several reasons. First, it offers high performance because many of its operations are implemented in C, making them much faster than equivalent operations using native Python lists. Second, it is extremely convenient to use, offering powerful features like broadcasting, which allows operations on arrays of different shapes, and advanced indexing and slicing capabilities. Additionally, NumPy serves as the foundation for many other popular libraries such as Pandas, SciPy, Matplotlib, TensorFlow, and scikit-learn, which rely on its array structure and computational capabilities. Its interoperability with code written in C, C++, and Fortran further extends its usability in performance-critical applications. Supported by a strong community and extensive documentation, NumPy is an essential tool in the Python ecosystem for data analysis, machine learning, and scientific research."
      ],
      "metadata": {
        "id": "jrQEnqF-y9vR"
      }
    },
    {
      "cell_type": "markdown",
      "source": [
        "**Question 2.** How does broadcasting work in NumPy?\n",
        "  - **Broadcasting** in NumPy is a powerful mechanism that allows arrays of different shapes to be used together in arithmetic operations without explicitly reshaping them. Instead of throwing an error when array shapes differ, NumPy automatically **“broadcasts”** the smaller array across the larger one so that element-wise operations can proceed.\n",
        "\n",
        "  It works in the following way:\n",
        "  When performing operations between two arrays, NumPy compares their shapes **element-wise** from **right to left**. Broadcasting occurs when the following rules are satisfied:\n",
        "\n",
        "     * **If the dimensions are equal, no change is needed.**\n",
        "\n",
        "     * **If one of the dimensions is 1, it is stretched to match the other.**\n",
        "\n",
        "     * **If the dimensions are incompatible, broadcasting fails with an error.**"
      ],
      "metadata": {
        "id": "Flg-oNcQ6EMI"
      }
    },
    {
      "cell_type": "code",
      "execution_count": 1,
      "metadata": {
        "colab": {
          "base_uri": "https://localhost:8080/"
        },
        "id": "np-iz8fVyISb",
        "outputId": "ea0d7df0-e574-4096-ba31-1a5a377d477e"
      },
      "outputs": [
        {
          "output_type": "stream",
          "name": "stdout",
          "text": [
            "Array A:\n",
            "[[1 2 3]\n",
            " [4 5 6]]\n",
            "\n",
            "Array B:\n",
            "[10 20 30]\n",
            "\n",
            "A + B (with broadcasting):\n",
            "[[11 22 33]\n",
            " [14 25 36]]\n"
          ]
        }
      ],
      "source": [
        "# Example\n",
        "import numpy as np\n",
        "\n",
        "# Array A of shape (2, 3)\n",
        "A = np.array([[1, 2, 3],\n",
        "              [4, 5, 6]])\n",
        "\n",
        "# Array B of shape (3,)\n",
        "B = np.array([10, 20, 30])\n",
        "\n",
        "# Broadcasting B to match the shape of A\n",
        "C = A + B\n",
        "\n",
        "print(\"Array A:\")\n",
        "print(A)\n",
        "\n",
        "print(\"\\nArray B:\")\n",
        "print(B)\n",
        "\n",
        "print(\"\\nA + B (with broadcasting):\")\n",
        "print(C)"
      ]
    },
    {
      "cell_type": "markdown",
      "source": [
        "**Question 3.**  What is a Pandas DataFrame?\n",
        "  - A Pandas DataFrame is a two-dimensional, size-mutable, and heterogeneous data structure in Python, similar to a table in a database or an Excel spreadsheet. It is one of the core components of the Pandas library, which is widely used for data analysis and manipulation.\n",
        "\n",
        "  A DataFrame is composed of rows and columns, where each column can contain data of different types (e.g., integers, strings, floats). It has both row labels (index) and column labels, which makes data easy to access and manipulate. You can think of it as a dictionary of Series (another Pandas data type), all sharing the same index. Pandas provides powerful tools to filter, group, reshape, clean, and visualize data, making the DataFrame essential for data science tasks in Python.\n",
        "\n",
        "  For example, if you load a CSV file into Pandas, the resulting object is typically a DataFrame that you can then analyze using functions like .head(), .describe(), .groupby(), and many more."
      ],
      "metadata": {
        "id": "PKG7i5Fq7L-K"
      }
    },
    {
      "cell_type": "markdown",
      "source": [
        "**Question 4.** Explain the use of the groupby() method in Pandas.\n",
        "  - The groupby() method in Pandas is a powerful tool used to group data based on the values in one or more columns and then perform operations on those groups. It’s especially useful when you want to analyze or summarize data by categories. For example, if you have a dataset of employees with their departments and salaries, and you want to find the average salary in each department, groupby() makes this task very straightforward.\n",
        "\n",
        "  When you use groupby(), Pandas essentially splits the data into groups based on the column(s) you specify, then applies a function like sum(), mean(), count(), etc., to each group individually. It then combines the results into a new DataFrame or Series. This \"split-apply-combine\" approach is great for understanding trends or patterns within subsets of your data. For instance, if you group employees by department and calculate the mean salary, you get a clear view of how compensation differs across departments, all with just a couple of lines of code."
      ],
      "metadata": {
        "id": "qUmPKbC77uMw"
      }
    },
    {
      "cell_type": "markdown",
      "source": [
        "**Question 5.** Why is Seaborn preferred for statistical visualizations?\n",
        "  - Seaborn is preferred for statistical visualizations in Python because it is specifically designed to make complex statistical plots easier to create and more visually appealing. Built on top of Matplotlib, Seaborn provides a high-level interface for drawing attractive and informative graphics with less code. It comes with built-in themes, color palettes, and tools for automatically handling things like confidence intervals, aggregation, and subplots—features that are especially useful for data analysis and exploratory data visualization.\n",
        "\n",
        "  One of the main reasons Seaborn stands out is its ability to work seamlessly with Pandas DataFrames, making it simple to visualize relationships and trends in datasets. Functions like sns.barplot(), sns.boxplot(), sns.histplot(), and sns.pairplot() are specifically optimized for statistical analysis and help reveal patterns, distributions, and correlations in the data. Because of its simplicity, elegant default styles, and focus on statistical tasks, Seaborn is often the go-to choice for data scientists and analysts who want to quickly generate clear, informative visuals.  "
      ],
      "metadata": {
        "id": "zSCckAxi8Y9i"
      }
    },
    {
      "cell_type": "markdown",
      "source": [
        "**Question 6.**  What are the differences between NumPy arrays and Python lists?\n",
        "  - NumPy arrays and Python lists may look similar at first glance, but they are quite different under the hood and in how they are used. NumPy arrays are specifically designed for numerical computations, and they offer much better performance and efficiency compared to Python lists. This is because NumPy arrays are implemented in C and use a contiguous block of memory, allowing for faster access and operations. In contrast, Python lists are more flexible but store elements as generic objects, which makes them slower and more memory-intensive, especially for large-scale numerical tasks.\n",
        "\n",
        "  Another key difference is that NumPy arrays support vectorized operations, meaning you can perform element-wise arithmetic and mathematical operations without writing explicit loops. For example, adding two arrays together or multiplying them by a scalar is done with simple syntax and runs very efficiently. Python lists do not support such operations directly — you’d need to use loops or list comprehensions.\n",
        "\n",
        "  Also, NumPy arrays require all elements to be of the same data type, which is great for numerical consistency and performance. Python lists can hold mixed data types, making them more flexible but less efficient for numeric work. Lastly, NumPy provides a vast collection of mathematical functions that work seamlessly with arrays, which isn’t the case for standard Python lists. This makes NumPy arrays the go-to choice for tasks in data science, machine learning, and scientific computing.  "
      ],
      "metadata": {
        "id": "sQoGUrbV-xeL"
      }
    },
    {
      "cell_type": "markdown",
      "source": [
        "**Question 7.** What is a heatmap, and when should it be used?\n",
        "  - A heatmap is a data visualization technique that uses color to represent the values of individual data points in a matrix or table. Each cell in the grid corresponds to a value, and the color intensity (or hue) reflects the magnitude of that value — typically with darker or more saturated colors representing higher values and lighter or faded colors representing lower values.\n",
        "\n",
        "  Heatmaps are particularly useful when you want to quickly identify patterns, correlations, or anomalies in large datasets. For example, in a correlation matrix showing relationships between multiple variables, a heatmap can instantly highlight which variables are strongly related (positively or negatively). They’re also commonly used in fields like biology (e.g., gene expression data), finance (e.g., stock movement correlations), and website analytics (e.g., user clicks on different parts of a page).\n",
        "\n",
        "  You should use a heatmap when you're dealing with matrix-like data, and your goal is to uncover visual patterns or concentrations of values without diving into raw numbers. It's especially helpful when comparing many variables at once or spotting trends that might not be obvious through text or standard tables."
      ],
      "metadata": {
        "id": "ou2MBELd-5vG"
      }
    },
    {
      "cell_type": "markdown",
      "source": [
        "**Question 8.** What does the term “vectorized operation” mean in NumPy?\n",
        "  - In NumPy, the term **\"vectorized operation\"** refers to the ability to perform operations on entire arrays (or large chunks of data) at once, without using explicit loops like for or while.\n",
        "\n",
        "  For example, if you have two NumPy arrays a and b, and you write a + b, NumPy will add the corresponding elements of the two arrays in one go — this is a vectorized operation. Under the hood, these operations are implemented in optimized C code, which makes them **much faster** and more efficient than doing the same thing with Python loops.\n",
        "\n",
        "  The beauty of vectorized operations is that they make your code **shorter, more readable**, and **way faster**, especially when you're working with large datasets. So instead of writing a loop to add 1 to every element in a list, you can just do array + 1, and NumPy handles the rest.\n",
        "\n",
        "  In summary, vectorized operations mean applying operations to entire arrays at once, leveraging speed and simplicity — which is a big part of what makes NumPy so powerful for numerical computing."
      ],
      "metadata": {
        "id": "jPk24Q6B_Zm4"
      }
    },
    {
      "cell_type": "markdown",
      "source": [
        "**Question 9.** How does Matplotlib differ from Plotly?\n",
        "  - Matplotlib and Plotly are both powerful Python libraries for data visualization, but they differ in several key ways — especially in terms of **interactivity, style,** and **use cases.**\n",
        "\n",
        "   **Matplotlib** is one of the oldest and most widely used visualization libraries in Python. It produces static, publication-quality plots and is highly customizable. It's great for generating plots like line charts, bar graphs, histograms, scatter plots, and more. However, it lacks built-in interactivity — the plots it creates are generally static images unless extended with additional tools like mpld3 or nbagg. It's best suited for traditional scientific and academic plots, especially when you're preparing figures for papers or reports.\n",
        "\n",
        "   **Plotly**, on the other hand, is a modern library designed for **interactive and web-friendly visualizations.** Every plot created with Plotly can be zoomed, hovered over, or dynamically updated. It’s particularly powerful for dashboards, exploratory data analysis, and anything that benefits from interactivity — like being able to highlight or isolate parts of your data in a browser. Plotly also integrates easily with web frameworks and supports exporting visuals to HTML.\n",
        "\n",
        "   In short, use **Matplotlib** when you want full control over a static plot for a report or paper, and choose **Plotly** when you want interactive, visually engaging charts, especially for web apps or presentations."
      ],
      "metadata": {
        "id": "5NPRgU9EAA4m"
      }
    },
    {
      "cell_type": "markdown",
      "source": [
        "**Question 10.**  What is the significance of hierarchical indexing in Pandas?\n",
        "  - Hierarchical indexing (also called multi-level indexing) in Pandas allows you to have multiple levels of row or column labels within a DataFrame or Series. This is especially useful when working with high-dimensional data or when you want to group and organize data in a more structured way without resorting to nested data structures.\n",
        "\n",
        "  The significance of hierarchical indexing lies in its ability to handle complex datasets more efficiently. For example, imagine you’re working with sales data for multiple regions over several years. With hierarchical indexing, you can have a two-level index where the first level is the region and the second is the year. This makes it easy to slice and dice the data — you can access all data for a specific region, or drill down into a particular year within that region, using intuitive and readable syntax.\n",
        "\n",
        "  Hierarchical indexing also enables powerful reshaping operations like stack(), unstack(), and swaplevel(), which are great for pivoting and reorganizing your data. In essence, it adds flexibility and depth to data analysis, allowing you to manage and analyze data that would otherwise be awkward or inefficient to work with using a flat index."
      ],
      "metadata": {
        "id": "151pfT96BAZe"
      }
    },
    {
      "cell_type": "markdown",
      "source": [
        "**Question 11.** What is the role of Seaborn’s pairplot() function?\n",
        "  - Seaborn’s pairplot() function is a powerful tool for exploratory data analysis. Its main role is to create a grid of plots that shows pairwise relationships between all numerical columns in a DataFrame. For each pair of variables, it draws a scatter plot, and on the diagonal, it usually displays a histogram or kernel density plot to show the distribution of each individual variable.\n",
        "\n",
        "  This function is especially useful when you want to quickly visualize patterns, trends, and correlations in a dataset with multiple features. For instance, if you're working with a dataset that has several numeric columns, pairplot() helps you spot linear relationships, clusters, outliers, and even potential multicollinearity between features — all in one compact grid of visuals.\n",
        "\n",
        "  You can also use the hue parameter to color the points based on a categorical variable, which adds another layer of insight — letting you see how different categories behave across combinations of features.\n",
        "\n",
        "  In short, pairplot() is great for getting a high-level overview of your data, helping you understand relationships before doing more formal analysis or modeling.\n",
        "\n",
        "\n",
        "\n",
        "\n",
        "\n",
        "\n",
        "\n"
      ],
      "metadata": {
        "id": "BrDPphqPBeYW"
      }
    },
    {
      "cell_type": "markdown",
      "source": [
        "**Question 12.** What is the purpose of the describe() function in Pandas?\n",
        "  - The describe() function in **Pandas** is used to quickly generate **summary statistics** of a DataFrame or Series. Its main purpose is to give you a snapshot of your data’s distribution and key metrics without having to calculate each one manually.\n",
        "\n",
        "  When you call df.describe() on a DataFrame, it returns statistics like **count, mean, standard deviation (std), minimum, 25th percentile (Q1), median (50%), 75th percentile (Q3),** and maximum for each numerical column by default. This helps you understand the **central tendency, spread,** and **range** of your data.\n",
        "\n",
        "  You can also use describe(include='all') to get summary stats for non-numeric columns — like counts, unique values, top frequent values, and their frequency.\n",
        "\n",
        "  In short, the describe() function is a **quick and easy tool for data profiling,** helping you get a feel for the structure and characteristics of your dataset right at the start of your analysis."
      ],
      "metadata": {
        "id": "kLU2Mv8ACBS-"
      }
    },
    {
      "cell_type": "markdown",
      "source": [
        "**Question 13.** Why is handling missing data important in Pandas?\n",
        "  - Handling missing data in Pandas is important because missing values can distort your analysis, lead to incorrect conclusions, and cause errors in computations or models. Real-world datasets are often incomplete — maybe some data wasn’t collected, or it was corrupted — and if you don’t handle that properly, your results can be misleading.\n",
        "\n",
        "  For example, many Pandas functions (like mean, sum, or groupby operations) either ignore or fail when missing values (NaN) are present. If you're training a machine learning model, missing values can cause the model to fail entirely or perform poorly.\n",
        "\n",
        "  Pandas provides several flexible tools to deal with missing data — like .isnull(), .dropna(), and .fillna() — allowing you to either remove incomplete records or fill them in with appropriate values (like the mean, median, or forward/backward fill).\n",
        "\n",
        "  In summary, handling missing data ensures that your analysis remains reliable, robust, and accurate, and it helps you make the most of the data you do have. Ignoring it can lead to biased insights or broken workflows."
      ],
      "metadata": {
        "id": "7u6I4bRrCyl4"
      }
    },
    {
      "cell_type": "markdown",
      "source": [
        "**Question 14.** What are the benefits of using Plotly for data visualization?\n",
        "  - Using Plotly for data visualization comes with several valuable benefits, especially when you're aiming for rich, interactive, and visually appealing plots. Here are some of the key advantages:\n",
        "       * **Interactivity by Default**\n",
        "\n",
        "        Plotly's biggest strength is that all its charts are interactive out of the box. You can hover over data points, zoom in/out, pan, and select areas directly in the plot — all without any extra code. This makes it ideal for exploratory data analysis and presentations.\n",
        "\n",
        "       * **Web Integration**\n",
        "        \n",
        "        Plotly plots can be easily exported as HTML files or embedded into web apps and dashboards (especially with tools like Dash, which is built on top of Plotly). This makes it a natural fit for building interactive data dashboards.\n",
        "        \n",
        "       * **Beautiful, High-Quality Visuals**\n",
        "\n",
        "        The library produces modern, clean, and publication-quality graphics. You get a lot of nice default styles, color palettes, and layout options that are more visually appealing than some older libraries like Matplotlib.\n",
        "\n",
        "       *  **Wide Range of Charts**\n",
        "        \n",
        "        Plotly supports a wide variety of chart types — from standard ones like line, bar, and scatter plots to more advanced ones like 3D plots, heatmaps, geographic maps, bubble charts, and financial charts — all with interactive capabilities.\n",
        "\n",
        "       * **Customizability**\n",
        "       \n",
        "       Despite being user-friendly, Plotly also allows deep customization of almost every visual element — layout, axis behavior, annotations, hover templates, and more — giving you full control over the final output.\n",
        "\n",
        "       * **Integration with Other Tools**\n",
        "\n",
        "      Plotly integrates well with Pandas, NumPy, Jupyter Notebooks, and web frameworks like Flask and Streamlit, making it versatile for different workflows, whether you’re a data scientist, analyst, or developer.\n",
        "\n",
        "      In short, Plotly is a go-to tool when you want to build powerful, interactive, and visually impressive data visualizations, especially for dashboards, presentations, and web-based projects.\n",
        "\n",
        "\n",
        "\n"
      ],
      "metadata": {
        "id": "69mHepvXDTXA"
      }
    },
    {
      "cell_type": "markdown",
      "source": [
        "**Question 15.** How does NumPy handle multidimensional arrays?\n",
        "  - NumPy handles multidimensional arrays using its powerful ndarray (n-dimensional array) object, which can store data in 1D, 2D, 3D, or higher dimensions. These arrays are structured like nested grids — for example, a 2D array looks like a matrix (rows and columns), and a 3D array looks like a stack of matrices.\n",
        "\n",
        "  At the core of this is the ndarray's shape attribute, which tells you how many elements exist along each dimension. For example, an array with shape (3, 4) has 3 rows and 4 columns, while one with shape (2, 3, 5) is 3-dimensional, meaning it has 2 blocks, each containing a 3×5 matrix.\n",
        "\n",
        "  NumPy makes it easy to access, reshape, slice, and perform operations on these arrays. For instance, you can reshape a 1D array into 2D using .reshape(), slice a specific row or column, or apply operations across entire dimensions — all without writing explicit loops. It also supports broadcasting, which lets you perform arithmetic between arrays of different shapes in a consistent and memory-efficient way.\n",
        "\n",
        "  In short, NumPy's handling of multidimensional arrays is fast, flexible, and intuitive, which is why it's the foundation of most scientific computing and data analysis workflows in Python."
      ],
      "metadata": {
        "id": "1sA81QtLE403"
      }
    },
    {
      "cell_type": "markdown",
      "source": [
        "**Question 16.** What is the role of Bokeh in data visualization?\n",
        "  - Bokeh is a Python library used for creating interactive and visually appealing data visualizations, especially for use in web browsers. Its main role is to allow developers and data scientists to build dashboards, plots, and data applications that are both powerful and easy to share.\n",
        "\n",
        "  Unlike static libraries like Matplotlib, Bokeh is designed from the ground up for interactivity. You can add features like tooltips, zooming, panning, sliders, dropdown menus, and even real-time updates to your plots — all with relatively simple code. This makes Bokeh especially useful for exploratory data analysis and data-driven web apps.\n",
        "\n",
        "  Another key feature of Bokeh is that it outputs visualizations as HTML and JavaScript, so they can be embedded directly into websites or Jupyter Notebooks. It also integrates well with Pandas, and it supports a wide variety of chart types — including line charts, bar plots, heatmaps, and even complex layouts like linked brushing between plots.\n",
        "\n",
        "  In short, Bokeh's role is to bridge the gap between interactive web-based visualization and Python’s data ecosystem, making it an excellent choice when you want your visualizations to be not only informative but also dynamic and user-friendly."
      ],
      "metadata": {
        "id": "rmIK3_oWFVFS"
      }
    },
    {
      "cell_type": "markdown",
      "source": [
        "**Question 17.** Explain the difference between apply() and map() in Pandas.\n",
        "  - apply() and map() in Pandas are both used to apply functions to data, but they have different use cases and work on different data structures.\n",
        "\n",
        "    -  map() **— For Series (1D)**\n",
        "       - The map() function is used only on Pandas Series (like a single column).\n",
        "\n",
        "       - It’s mainly used for element-wise transformations, such as applying a function, dictionary, or lambda to each value in the Series.\n",
        "\n",
        "    - apply() **— For Both Series & DataFrames**\n",
        "       - apply() is more versatile and works on both Series and DataFrames.\n",
        "\n",
        "       - When used on a Series, it behaves like map() but is a bit more flexible.\n",
        "\n",
        "       - When used on a DataFrame, it lets you apply a function row-wise or column-wise using the axis parameter.\n",
        "\n"
      ],
      "metadata": {
        "id": "QH5OBN-SF8_8"
      }
    },
    {
      "cell_type": "markdown",
      "source": [
        "**Question 18.** What are some advanced features of NumPy?\n",
        "  - NumPy is packed with advanced features that go far beyond basic array creation and arithmetic. Here are some of the most powerful and commonly used advanced features of NumPy:\n",
        "\n",
        "     - **Broadcasting**\n",
        "       \n",
        "       Broadcasting allows NumPy to perform operations between arrays of different shapes without explicitly copying data. For example, you can add a scalar to an entire array, or add a 1D array to each row of a 2D array — NumPy handles the shape alignment automatically. This makes code more concise and efficient.\n",
        "\n",
        "     - **Vectorized Operations**\n",
        "      \n",
        "       Instead of using slow Python loops, NumPy applies operations across entire arrays at once using optimized C code. This includes mathematical operations, comparisons, and logical operations — all done quickly and with cleaner syntax.\n",
        "    \n",
        "    - **Masked Arrays**\n",
        "      \n",
        "       Masked arrays (numpy.ma) let you work with data that may have invalid or missing values. They allow certain elements to be “masked” (ignored) in computations, which is useful in real-world datasets where some data might be incomplete.\n",
        "\n",
        "    - **Structured Arrays**\n",
        "     \n",
        "      NumPy supports arrays with named fields, kind of like a lightweight version of a database table. This allows each element in the array to hold multiple types (like an int and a string), making it useful for working with mixed data.\n",
        "\n",
        "    - **Memory Mapping Large Files**\n",
        "\n",
        "      With np.memmap, you can read and write large binary data files without loading the whole file into memory. This is extremely useful for big datasets that don’t fit into RAM.\n",
        "\n",
        "    - **Advanced Indexing and Slicing**\n",
        "      \n",
        "      NumPy supports fancy indexing using arrays or boolean masks, allowing you to select or modify complex subsets of data with very concise code.\n",
        "\n",
        "    - **Universal Functions (ufuncs)**\n",
        "\n",
        "       These are functions that operate element-wise on arrays and support broadcasting, type casting, and several additional options like reducing or accumulating results.\n",
        "\n",
        "    - **Linear Algebra and FFT Modules**\n",
        "\n",
        "       NumPy has built-in modules for linear algebra (numpy.linalg) and fast Fourier transforms (numpy.fft). These allow you to do matrix multiplication, solve linear systems, compute eigenvalues, and more — all efficiently.\n",
        "\n",
        "    - **Random Number Generation**\n",
        "\n",
        "       The numpy.random module provides a full suite of tools for generating random numbers, sampling from distributions, and setting seeds for reproducibility — essential for simulations and machine learning.\n",
        "\n",
        "    - **Performance and C Integration**\n",
        "\n",
        "       NumPy arrays can be passed efficiently to and from C/C++ and Fortran code. This makes it a core part of many scientific computing pipelines where performance is critical.\n",
        "\n",
        "       In short, NumPy isn’t just about arrays — it’s a high-performance computational engine with rich features that make it the backbone of scientific and numerical computing in Python.\n"
      ],
      "metadata": {
        "id": "reQCzEAAJFTK"
      }
    },
    {
      "cell_type": "markdown",
      "source": [
        "**Question 19.**  How does Pandas simplify time series analysis?\n",
        "  - Pandas simplifies time series analysis by offering a wide range of built-in features that make working with dates, times, and time-indexed data much easier and more intuitive. Here's how it helps:\n",
        "     - **Datetime Indexing:** Pandas allows you to set a datetime column as the index, which turns your DataFrame into a time series object. This unlocks powerful time-based operations like slicing, resampling, and shifting using simple syntax.\n",
        "\n",
        "     - **Time-Based Slicing:** You can easily filter data by year, month, day, or even by a range of dates using simple, readable expressions.\n",
        "\n",
        "     - **Resampling and Frequency Conversion** :Pandas lets you resample time series data to different frequencies — like converting daily data to monthly averages, or minute-level data to hourly sums.\n",
        "\n",
        "     - **Shifting and Lagging**: With functions like .shift() and .tshift(), you can easily shift time series data forward or backward — useful for creating lag features in forecasting or aligning time steps.\n",
        "\n",
        "     - **Rolling Windows and Moving Averages**: Pandas provides built-in support for rolling statistics such as moving averages, standard deviations, and other windowed functions.\n",
        "\n",
        "     - **Date Ranges and Frequencies**: You can easily generate time ranges using pd.date_range() with flexible frequency codes like 'D' (daily), 'M' (monthly), 'H' (hourly), etc.\n",
        "\n",
        "     Pandas makes time series analysis easy, efficient, and readable by providing high-level, intuitive tools for datetime handling, slicing, resampling, and applying statistical operations — saving you from a lot of manual time-related coding. It’s a go-to tool for analysts and data scientists working with time-indexed data.\n",
        "\n"
      ],
      "metadata": {
        "id": "hLxcpyAPLls3"
      }
    },
    {
      "cell_type": "markdown",
      "source": [
        "**Question 20.** What is the role of a pivot table in Pandas?\n",
        "  - A pivot table in Pandas is a powerful tool used to summarize, analyze, explore, and present your data in a more meaningful way.\n",
        "\n",
        "   Think of it like this: when you have a messy dataset with lots of rows and repeated values, a pivot table helps you reshape that data to show it in a cleaner, more digestible format.\n",
        "\n",
        "   Here's what a pivot table helps you do:\n",
        "      - **Group data** based on one or more columns.\n",
        "\n",
        "      - **Aggregate data** using functions like sum(), mean(), count(), etc.\n",
        "\n",
        "      - **Create a multi-dimensional summary** by choosing what goes on rows, columns, and values.\n",
        "\n",
        "      In short, A pivot table in Pandas is like a smart table that helps you see patterns and trends in your data by grouping and summarizing it efficiently. It's a go-to tool when you're analyzing data, especially with large datasets\n"
      ],
      "metadata": {
        "id": "elWzIFfrN6Pw"
      }
    },
    {
      "cell_type": "markdown",
      "source": [
        "**Question 21.** Why is NumPy’s array slicing faster than Python’s list slicing?\n",
        "  - The short answer is: **NumPy is optimized for performance at a much lower level than regular Python lists.**\n",
        "\n",
        "  But here's the more detailed and friendly explanation:\n",
        "\n",
        "     - **Homogeneous Data Type**\n",
        "     \n",
        "       - NumPy arrays store data of the same type in contiguous blocks of memory.\n",
        "     \n",
        "       - Python lists, on the other hand, can hold mixed types (int, str, etc.), so each element is actually a reference to a Python object, which makes it slower.\n",
        "     \n",
        "        **Analogy:** Imagine NumPy as a neat bookshelf with identical books side by side, while Python lists are a messy shelf with books, toys, and random stuff—you can't efficiently grab a section of it.\n",
        "\n",
        "    -  **Memory Efficiency**\n",
        "    \n",
        "      - NumPy uses fixed-size blocks of memory and is implemented in C.\n",
        "      \n",
        "      - Slicing just gives you a view (not a copy) of the original data. This means no new memory allocation is required.\n",
        "      \n",
        "      - Python lists create a new list when you slice, which involves copying elements one by one.\n",
        "\n",
        "    - **Under-the-hood Optimization**\n",
        "     \n",
        "      - NumPy's operations are written in low-level languages like C and Fortran, which are blazing fast.\n",
        "      \n",
        "      - Python lists are handled by the Python interpreter, which is slower by comparison.\n",
        "\n",
        "     In short:\n",
        "      NumPy slicing is faster because:\n",
        "\n",
        "      - It uses compact memory storage\n",
        "\n",
        "      - It avoids copying data (gives you a view)\n",
        "\n",
        "      - It's built on high-performance C code\n",
        "\n",
        "      So when you're working with big data and need speed, NumPy is the way to go!"
      ],
      "metadata": {
        "id": "FiaI5_jeO4-2"
      }
    },
    {
      "cell_type": "markdown",
      "source": [
        "**Question 22.** What are some common use cases for Seaborn?\n",
        "  - Seaborn is like your go-to toolkit for making beautiful and informative statistical graphics in Python. It’s built on top of Matplotlib but offers a higher-level, easier-to-use API—especially when you're working with data analysis or exploration.\n",
        "\n",
        "   **Here are some common use cases for Seaborn:**\n",
        "\n",
        "      - **Visualizing Distributions**\n",
        "      \n",
        "      You can easily explore how your data is spread out.\n",
        "\n",
        "          - Histogram & KDE Plot: sns.histplot(), sns.kdeplot()\n",
        "\n",
        "          - Example: Check the distribution of ages in a survey dataset.\n",
        "      - **Comparing Categories**\n",
        "      \n",
        "      Great for comparing different groups side by side.\n",
        "\n",
        "          - Bar plot: sns.barplot()\n",
        "\n",
        "          - Box plot: sns.boxplot()\n",
        "\n",
        "          - Violin plot: sns.violinplot()\n",
        "\n",
        "          - Example: Compare salaries of men vs women or test scores by school.\n",
        "\n",
        "      - **Understanding Relationships Between Variables**\n",
        "      \n",
        "      Helps you spot trends or correlations.\n",
        "       \n",
        "         - Scatter plots: sns.scatterplot()\n",
        "\n",
        "         - Line plots: sns.lineplot()\n",
        "\n",
        "         - Joint plots: sns.jointplot() — combines scatter + histograms\n",
        "\n",
        "         - Pair plots: sns.pairplot() — shows all pairwise relationships in one go\n",
        "      - **Heatmaps**\n",
        "      \n",
        "      Used to visualize matrices or correlation between variables.\n",
        "\n",
        "         - sns.heatmap()\n",
        "\n",
        "         - Example: Show correlation between numerical features in a dataset like a bank’s customer data.\n",
        "\n",
        "      - **Working with Categorical Data**\n",
        "        \n",
        "        Easily visualize data grouped by categories.\n",
        "\n",
        "          - Count plot: sns.countplot()\n",
        "\n",
        "          - Example: Count how many users belong to each customer segment.\n",
        "\n",
        "      - **Time Series Visualization**\n",
        "        \n",
        "         Use Seaborn to handle trends over time using lineplot() with a datetime index.\n",
        "\n",
        "      - **Automated Statistical Visualization**\n",
        "        \n",
        "         Seaborn takes care of things like error bars, confidence intervals, and more—so your charts are not just pretty, but statistically meaningful too.\n",
        "\n",
        "      Seaborn works really well with Pandas DataFrames, so you can directly use column names—no need to slice arrays or worry about axes.\n",
        "      \n",
        "      In a nutshell:\n",
        "      \n",
        "      Seaborn is your best friend when you want to:\n",
        "       \n",
        "         - Explore your data visually\n",
        "         \n",
        "         - Compare groups\n",
        "         \n",
        "         - Understand relationships\n",
        "         \n",
        "         - Spot trends and patterns quickly\n",
        "         \n",
        "         And the best part? It makes your plots look clean and professional right out of the box.\n",
        "\n",
        "\n"
      ],
      "metadata": {
        "id": "eu36eaOKQkA5"
      }
    },
    {
      "cell_type": "markdown",
      "source": [
        "## Practical Questions"
      ],
      "metadata": {
        "id": "ewOW0Y4TTjzX"
      }
    },
    {
      "cell_type": "markdown",
      "source": [
        "**Question 1.** How do you create a 2D NumPy array and calculate the sum of each row?\n"
      ],
      "metadata": {
        "id": "RJiLrUTLTnu7"
      }
    },
    {
      "cell_type": "code",
      "source": [
        "import numpy as np\n",
        "\n",
        "# Create a 2D NumPy array (3 rows, 4 columns)\n",
        "arr = np.array([\n",
        "    [1, 2, 3, 4],\n",
        "    [5, 6, 7, 8],\n",
        "    [9, 10, 11, 12]\n",
        "])\n",
        "\n",
        "# Calculate the sum of each row\n",
        "row_sums = np.sum(arr, axis=1)\n",
        "\n",
        "print(\"Original Array:\\n\", arr)\n",
        "print(\"Sum of each row:\", row_sums)"
      ],
      "metadata": {
        "colab": {
          "base_uri": "https://localhost:8080/"
        },
        "id": "ubbUkrCKQZB_",
        "outputId": "287df7bd-4c40-4477-d122-8adc5b094596"
      },
      "execution_count": 2,
      "outputs": [
        {
          "output_type": "stream",
          "name": "stdout",
          "text": [
            "Original Array:\n",
            " [[ 1  2  3  4]\n",
            " [ 5  6  7  8]\n",
            " [ 9 10 11 12]]\n",
            "Sum of each row: [10 26 42]\n"
          ]
        }
      ]
    },
    {
      "cell_type": "markdown",
      "source": [
        "**Question 2.**  Write a Pandas script to find the mean of a specific column in a DataFrame."
      ],
      "metadata": {
        "id": "KEkl4NlLT4BL"
      }
    },
    {
      "cell_type": "code",
      "source": [
        "import pandas as pd\n",
        "\n",
        "# Sample DataFrame\n",
        "data = {\n",
        "  'Name': ['Alice', 'Bob', 'Charlie', 'David'],\n",
        "  'Age': [25, 30, 35, 40],\n",
        "  'Salary': [50000, 60000, 55000, 70000]\n",
        "}\n",
        "\n",
        "df = pd.DataFrame(data)\n",
        "\n",
        "# Calculate the mean of the 'Salary' column\n",
        "mean_salary = df['Salary'].mean()\n",
        "\n",
        "print(\"Mean Salary:\", mean_salary)"
      ],
      "metadata": {
        "colab": {
          "base_uri": "https://localhost:8080/"
        },
        "id": "Asm5T9UJTxF5",
        "outputId": "f5d9a4c5-a727-4e3f-86dd-42fd01c13baa"
      },
      "execution_count": 3,
      "outputs": [
        {
          "output_type": "stream",
          "name": "stdout",
          "text": [
            "Mean Salary: 58750.0\n"
          ]
        }
      ]
    },
    {
      "cell_type": "markdown",
      "source": [
        "**Question 3.** Create a scatter plot using Matplotlib."
      ],
      "metadata": {
        "id": "kfqBjOfJUTgP"
      }
    },
    {
      "cell_type": "code",
      "source": [
        "import matplotlib.pyplot as plt\n",
        "\n",
        "# Sample data\n",
        "x = [1, 2, 3, 4, 5]\n",
        "y = [2, 4, 1, 8, 7]\n",
        "\n",
        "# Create the scatter plot\n",
        "plt.scatter(x, y, color='blue', marker='o', s=100)\n",
        "\n",
        "# Add labels and title\n",
        "plt.xlabel('X-axis')\n",
        "plt.ylabel('Y-axis')\n",
        "plt.title('Simple Scatter Plot')\n",
        "\n",
        "# Show the plot\n",
        "plt.grid(True)\n",
        "plt.show()"
      ],
      "metadata": {
        "colab": {
          "base_uri": "https://localhost:8080/",
          "height": 472
        },
        "id": "XBTsYxfHULk-",
        "outputId": "ddfa9036-00e1-48c9-98c0-6cd27327db4d"
      },
      "execution_count": 4,
      "outputs": [
        {
          "output_type": "display_data",
          "data": {
            "text/plain": [
              "<Figure size 640x480 with 1 Axes>"
            ],
            "image/png": "[encoded data removed]"
          },
          "metadata": {}
        }
      ]
    },
    {
      "cell_type": "markdown",
      "source": [
        "**Question 4.** How do you calculate the correlation matrix using Seaborn and visualize it with a heatmap?\n"
      ],
      "metadata": {
        "id": "PTh-yzfvUhNz"
      }
    },
    {
      "cell_type": "code",
      "source": [
        "import pandas as pd\n",
        "import seaborn as sns\n",
        "import matplotlib.pyplot as plt\n",
        "\n",
        "# Sample DataFrame\n",
        "data = {\n",
        "  'Math': [90, 80, 70, 65, 85],\n",
        "  'Physics': [88, 82, 78, 60, 85],\n",
        "  'Chemistry': [85, 79, 76, 62, 83],\n",
        "  'Biology': [75, 70, 68, 55, 78]\n",
        "}\n",
        "\n",
        "df = pd.DataFrame(data)\n",
        "\n",
        "# Calculate the correlation matrix\n",
        "corr_matrix = df.corr()\n",
        "\n",
        "# Create a heatmap\n",
        "plt.figure(figsize=(8, 6))\n",
        "sns.heatmap(corr_matrix, annot=True, cmap='coolwarm', linewidths=0.5)\n",
        "\n",
        "# Add a title\n",
        "plt.title('Correlation Matrix Heatmap')\n",
        "\n",
        "plt.show()"
      ],
      "metadata": {
        "colab": {
          "base_uri": "https://localhost:8080/",
          "height": 545
        },
        "id": "11olHuALUY49",
        "outputId": "3b19bf59-4808-4dd3-ac6d-c7d88c8dfce3"
      },
      "execution_count": 5,
      "outputs": [
        {
          "output_type": "display_data",
          "data": {
            "text/plain": [
              "<Figure size 800x600 with 2 Axes>"
            ],
            "image/png": "[encoded data removed]"
          },
          "metadata": {}
        }
      ]
    },
    {
      "cell_type": "markdown",
      "source": [
        "**Question 5.** Generate a bar plot using Plotly."
      ],
      "metadata": {
        "id": "JsUoTYXWUvcP"
      }
    },
    {
      "cell_type": "code",
      "source": [
        "import plotly.graph_objects as go\n",
        "\n",
        "# Sample data\n",
        "categories = ['Apples', 'Bananas', 'Cherries', 'Dates']\n",
        "values = [23, 17, 35, 29]\n",
        "\n",
        "# Create the bar plot\n",
        "fig = go.Figure(data=[\n",
        "  go.Bar(x=categories, y=values, marker_color='indianred')\n",
        "])\n",
        "\n",
        "# Customize layout\n",
        "fig.update_layout(\n",
        "  title='Fruit Sales',\n",
        "  xaxis_title='Fruit',\n",
        "  yaxis_title='Quantity Sold',\n",
        "  template='plotly_white'\n",
        ")\n",
        "\n",
        "# Show the plot\n",
        "fig.show()"
      ],
      "metadata": {
        "colab": {
          "base_uri": "https://localhost:8080/",
          "height": 542
        },
        "id": "Kw7Bc7pLUpeL",
        "outputId": "5ddc6221-6664-40af-b0af-c64e7807b270"
      },
      "execution_count": 6,
      "outputs": [
        {
          "output_type": "display_data",
          "data": {
            "text/html": [
              "<html>\n",
              "<head><meta charset=\"utf-8\" /></head>\n",
              "<body>\n",
              "    <div>            <script src=\"https://cdnjs.cloudflare.com/ajax/libs/mathjax/2.7.5/MathJax.js?config=TeX-AMS-MML_SVG\"></script><script type=\"text/javascript\">if (window.MathJax && window.MathJax.Hub && window.MathJax.Hub.Config) {window.MathJax.Hub.Config({SVG: {font: \"STIX-Web\"}});}</script>                <script type=\"text/javascript\">window.PlotlyConfig = {MathJaxConfig: 'local'};</script>\n",
              "        <script charset=\"utf-8\" src=\"https://cdn.plot.ly/plotly-2.35.2.min.js\"></script>                <div id=\"efc6c099-c298-4c06-a858-e0c788909825\" class=\"plotly-graph-div\" style=\"height:525px; width:100%;\"></div>            <script type=\"text/javascript\">                                    window.PLOTLYENV=window.PLOTLYENV || {};                                    if (document.getElementById(\"efc6c099-c298-4c06-a858-e0c788909825\")) {                    Plotly.newPlot(                        \"efc6c099-c298-4c06-a858-e0c788909825\",                        [{\"marker\":{\"color\":\"indianred\"},\"x\":[\"Apples\",\"Bananas\",\"Cherries\",\"Dates\"],\"y\":[23,17,35,29],\"type\":\"bar\"}],                        {\"template\":{\"data\":{\"barpolar\":[{\"marker\":{\"line\":{\"color\":\"white\",\"width\":0.5},\"pattern\":{\"fillmode\":\"overlay\",\"size\":10,\"solidity\":0.2}},\"type\":\"barpolar\"}],\"bar\":[{\"error_x\":{\"color\":\"#2a3f5f\"},\"error_y\":{\"color\":\"#2a3f5f\"},\"marker\":{\"line\":{\"color\":\"white\",\"width\":0.5},\"pattern\":{\"fillmode\":\"overlay\",\"size\":10,\"solidity\":0.2}},\"type\":\"bar\"}],\"carpet\":[{\"aaxis\":{\"endlinecolor\":\"#2a3f5f\",\"gridcolor\":\"#C8D4E3\",\"linecolor\":\"#C8D4E3\",\"minorgridcolor\":\"#C8D4E3\",\"startlinecolor\":\"#2a3f5f\"},\"baxis\":{\"endlinecolor\":\"#2a3f5f\",\"gridcolor\":\"#C8D4E3\",\"linecolor\":\"#C8D4E3\",\"minorgridcolor\":\"#C8D4E3\",\"startlinecolor\":\"#2a3f5f\"},\"type\":\"carpet\"}],\"choropleth\":[{\"colorbar\":{\"outlinewidth\":0,\"ticks\":\"\"},\"type\":\"choropleth\"}],\"contourcarpet\":[{\"colorbar\":{\"outlinewidth\":0,\"ticks\":\"\"},\"type\":\"contourcarpet\"}],\"contour\":[{\"colorbar\":{\"outlinewidth\":0,\"ticks\":\"\"},\"colorscale\":[[0.0,\"#0d0887\"],[0.1111111111111111,\"#46039f\"],[0.2222222222222222,\"#7201a8\"],[0.3333333333333333,\"#9c179e\"],[0.4444444444444444,\"#bd3786\"],[0.5555555555555556,\"#d8576b\"],[0.6666666666666666,\"#ed7953\"],[0.7777777777777778,\"#fb9f3a\"],[0.8888888888888888,\"#fdca26\"],[1.0,\"#f0f921\"]],\"type\":\"contour\"}],\"heatmapgl\":[{\"colorbar\":{\"outlinewidth\":0,\"ticks\":\"\"},\"colorscale\":[[0.0,\"#0d0887\"],[0.1111111111111111,\"#46039f\"],[0.2222222222222222,\"#7201a8\"],[0.3333333333333333,\"#9c179e\"],[0.4444444444444444,\"#bd3786\"],[0.5555555555555556,\"#d8576b\"],[0.6666666666666666,\"#ed7953\"],[0.7777777777777778,\"#fb9f3a\"],[0.8888888888888888,\"#fdca26\"],[1.0,\"#f0f921\"]],\"type\":\"heatmapgl\"}],\"heatmap\":[{\"colorbar\":{\"outlinewidth\":0,\"ticks\":\"\"},\"colorscale\":[[0.0,\"#0d0887\"],[0.1111111111111111,\"#46039f\"],[0.2222222222222222,\"#7201a8\"],[0.3333333333333333,\"#9c179e\"],[0.4444444444444444,\"#bd3786\"],[0.5555555555555556,\"#d8576b\"],[0.6666666666666666,\"#ed7953\"],[0.7777777777777778,\"#fb9f3a\"],[0.8888888888888888,\"#fdca26\"],[1.0,\"#f0f921\"]],\"type\":\"heatmap\"}],\"histogram2dcontour\":[{\"colorbar\":{\"outlinewidth\":0,\"ticks\":\"\"},\"colorscale\":[[0.0,\"#0d0887\"],[0.1111111111111111,\"#46039f\"],[0.2222222222222222,\"#7201a8\"],[0.3333333333333333,\"#9c179e\"],[0.4444444444444444,\"#bd3786\"],[0.5555555555555556,\"#d8576b\"],[0.6666666666666666,\"#ed7953\"],[0.7777777777777778,\"#fb9f3a\"],[0.8888888888888888,\"#fdca26\"],[1.0,\"#f0f921\"]],\"type\":\"histogram2dcontour\"}],\"histogram2d\":[{\"colorbar\":{\"outlinewidth\":0,\"ticks\":\"\"},\"colorscale\":[[0.0,\"#0d0887\"],[0.1111111111111111,\"#46039f\"],[0.2222222222222222,\"#7201a8\"],[0.3333333333333333,\"#9c179e\"],[0.4444444444444444,\"#bd3786\"],[0.5555555555555556,\"#d8576b\"],[0.6666666666666666,\"#ed7953\"],[0.7777777777777778,\"#fb9f3a\"],[0.8888888888888888,\"#fdca26\"],[1.0,\"#f0f921\"]],\"type\":\"histogram2d\"}],\"histogram\":[{\"marker\":{\"pattern\":{\"fillmode\":\"overlay\",\"size\":10,\"solidity\":0.2}},\"type\":\"histogram\"}],\"mesh3d\":[{\"colorbar\":{\"outlinewidth\":0,\"ticks\":\"\"},\"type\":\"mesh3d\"}],\"parcoords\":[{\"line\":{\"colorbar\":{\"outlinewidth\":0,\"ticks\":\"\"}},\"type\":\"parcoords\"}],\"pie\":[{\"automargin\":true,\"type\":\"pie\"}],\"scatter3d\":[{\"line\":{\"colorbar\":{\"outlinewidth\":0,\"ticks\":\"\"}},\"marker\":{\"colorbar\":{\"outlinewidth\":0,\"ticks\":\"\"}},\"type\":\"scatter3d\"}],\"scattercarpet\":[{\"marker\":{\"colorbar\":{\"outlinewidth\":0,\"ticks\":\"\"}},\"type\":\"scattercarpet\"}],\"scattergeo\":[{\"marker\":{\"colorbar\":{\"outlinewidth\":0,\"ticks\":\"\"}},\"type\":\"scattergeo\"}],\"scattergl\":[{\"marker\":{\"colorbar\":{\"outlinewidth\":0,\"ticks\":\"\"}},\"type\":\"scattergl\"}],\"scattermapbox\":[{\"marker\":{\"colorbar\":{\"outlinewidth\":0,\"ticks\":\"\"}},\"type\":\"scattermapbox\"}],\"scatterpolargl\":[{\"marker\":{\"colorbar\":{\"outlinewidth\":0,\"ticks\":\"\"}},\"type\":\"scatterpolargl\"}],\"scatterpolar\":[{\"marker\":{\"colorbar\":{\"outlinewidth\":0,\"ticks\":\"\"}},\"type\":\"scatterpolar\"}],\"scatter\":[{\"fillpattern\":{\"fillmode\":\"overlay\",\"size\":10,\"solidity\":0.2},\"type\":\"scatter\"}],\"scatterternary\":[{\"marker\":{\"colorbar\":{\"outlinewidth\":0,\"ticks\":\"\"}},\"type\":\"scatterternary\"}],\"surface\":[{\"colorbar\":{\"outlinewidth\":0,\"ticks\":\"\"},\"colorscale\":[[0.0,\"#0d0887\"],[0.1111111111111111,\"#46039f\"],[0.2222222222222222,\"#7201a8\"],[0.3333333333333333,\"#9c179e\"],[0.4444444444444444,\"#bd3786\"],[0.5555555555555556,\"#d8576b\"],[0.6666666666666666,\"#ed7953\"],[0.7777777777777778,\"#fb9f3a\"],[0.8888888888888888,\"#fdca26\"],[1.0,\"#f0f921\"]],\"type\":\"surface\"}],\"table\":[{\"cells\":{\"fill\":{\"color\":\"#EBF0F8\"},\"line\":{\"color\":\"white\"}},\"header\":{\"fill\":{\"color\":\"#C8D4E3\"},\"line\":{\"color\":\"white\"}},\"type\":\"table\"}]},\"layout\":{\"annotationdefaults\":{\"arrowcolor\":\"#2a3f5f\",\"arrowhead\":0,\"arrowwidth\":1},\"autotypenumbers\":\"strict\",\"coloraxis\":{\"colorbar\":{\"outlinewidth\":0,\"ticks\":\"\"}},\"colorscale\":{\"diverging\":[[0,\"#8e0152\"],[0.1,\"#c51b7d\"],[0.2,\"#de77ae\"],[0.3,\"#f1b6da\"],[0.4,\"#fde0ef\"],[0.5,\"#f7f7f7\"],[0.6,\"#e6f5d0\"],[0.7,\"#b8e186\"],[0.8,\"#7fbc41\"],[0.9,\"#4d9221\"],[1,\"#276419\"]],\"sequential\":[[0.0,\"#0d0887\"],[0.1111111111111111,\"#46039f\"],[0.2222222222222222,\"#7201a8\"],[0.3333333333333333,\"#9c179e\"],[0.4444444444444444,\"#bd3786\"],[0.5555555555555556,\"#d8576b\"],[0.6666666666666666,\"#ed7953\"],[0.7777777777777778,\"#fb9f3a\"],[0.8888888888888888,\"#fdca26\"],[1.0,\"#f0f921\"]],\"sequentialminus\":[[0.0,\"#0d0887\"],[0.1111111111111111,\"#46039f\"],[0.2222222222222222,\"#7201a8\"],[0.3333333333333333,\"#9c179e\"],[0.4444444444444444,\"#bd3786\"],[0.5555555555555556,\"#d8576b\"],[0.6666666666666666,\"#ed7953\"],[0.7777777777777778,\"#fb9f3a\"],[0.8888888888888888,\"#fdca26\"],[1.0,\"#f0f921\"]]},\"colorway\":[\"#636efa\",\"#EF553B\",\"#00cc96\",\"#ab63fa\",\"#FFA15A\",\"#19d3f3\",\"#FF6692\",\"#B6E880\",\"#FF97FF\",\"#FECB52\"],\"font\":{\"color\":\"#2a3f5f\"},\"geo\":{\"bgcolor\":\"white\",\"lakecolor\":\"white\",\"landcolor\":\"white\",\"showlakes\":true,\"showland\":true,\"subunitcolor\":\"#C8D4E3\"},\"hoverlabel\":{\"align\":\"left\"},\"hovermode\":\"closest\",\"mapbox\":{\"style\":\"light\"},\"paper_bgcolor\":\"white\",\"plot_bgcolor\":\"white\",\"polar\":{\"angularaxis\":{\"gridcolor\":\"#EBF0F8\",\"linecolor\":\"#EBF0F8\",\"ticks\":\"\"},\"bgcolor\":\"white\",\"radialaxis\":{\"gridcolor\":\"#EBF0F8\",\"linecolor\":\"#EBF0F8\",\"ticks\":\"\"}},\"scene\":{\"xaxis\":{\"backgroundcolor\":\"white\",\"gridcolor\":\"#DFE8F3\",\"gridwidth\":2,\"linecolor\":\"#EBF0F8\",\"showbackground\":true,\"ticks\":\"\",\"zerolinecolor\":\"#EBF0F8\"},\"yaxis\":{\"backgroundcolor\":\"white\",\"gridcolor\":\"#DFE8F3\",\"gridwidth\":2,\"linecolor\":\"#EBF0F8\",\"showbackground\":true,\"ticks\":\"\",\"zerolinecolor\":\"#EBF0F8\"},\"zaxis\":{\"backgroundcolor\":\"white\",\"gridcolor\":\"#DFE8F3\",\"gridwidth\":2,\"linecolor\":\"#EBF0F8\",\"showbackground\":true,\"ticks\":\"\",\"zerolinecolor\":\"#EBF0F8\"}},\"shapedefaults\":{\"line\":{\"color\":\"#2a3f5f\"}},\"ternary\":{\"aaxis\":{\"gridcolor\":\"#DFE8F3\",\"linecolor\":\"#A2B1C6\",\"ticks\":\"\"},\"baxis\":{\"gridcolor\":\"#DFE8F3\",\"linecolor\":\"#A2B1C6\",\"ticks\":\"\"},\"bgcolor\":\"white\",\"caxis\":{\"gridcolor\":\"#DFE8F3\",\"linecolor\":\"#A2B1C6\",\"ticks\":\"\"}},\"title\":{\"x\":0.05},\"xaxis\":{\"automargin\":true,\"gridcolor\":\"#EBF0F8\",\"linecolor\":\"#EBF0F8\",\"ticks\":\"\",\"title\":{\"standoff\":15},\"zerolinecolor\":\"#EBF0F8\",\"zerolinewidth\":2},\"yaxis\":{\"automargin\":true,\"gridcolor\":\"#EBF0F8\",\"linecolor\":\"#EBF0F8\",\"ticks\":\"\",\"title\":{\"standoff\":15},\"zerolinecolor\":\"#EBF0F8\",\"zerolinewidth\":2}}},\"title\":{\"text\":\"Fruit Sales\"},\"xaxis\":{\"title\":{\"text\":\"Fruit\"}},\"yaxis\":{\"title\":{\"text\":\"Quantity Sold\"}}},                        {\"responsive\": true}                    ).then(function(){\n",
              "                            \n",
              "var gd = document.getElementById('efc6c099-c298-4c06-a858-e0c788909825');\n",
              "var x = new MutationObserver(function (mutations, observer) {{\n",
              "        var display = window.getComputedStyle(gd).display;\n",
              "        if (!display || display === 'none') {{\n",
              "            console.log([gd, 'removed!']);\n",
              "            Plotly.purge(gd);\n",
              "            observer.disconnect();\n",
              "        }}\n",
              "}});\n",
              "\n",
              "// Listen for the removal of the full notebook cells\n",
              "var notebookContainer = gd.closest('#notebook-container');\n",
              "if (notebookContainer) {{\n",
              "    x.observe(notebookContainer, {childList: true});\n",
              "}}\n",
              "\n",
              "// Listen for the clearing of the current output cell\n",
              "var outputEl = gd.closest('.output');\n",
              "if (outputEl) {{\n",
              "    x.observe(outputEl, {childList: true});\n",
              "}}\n",
              "\n",
              "                        })                };                            </script>        </div>\n",
              "</body>\n",
              "</html>"
            ]
          },
          "metadata": {}
        }
      ]
    },
    {
      "cell_type": "markdown",
      "source": [
        "**Question 6.** Create a DataFrame and add a new column based on an existing column."
      ],
      "metadata": {
        "id": "LfQJL1pXVGu6"
      }
    },
    {
      "cell_type": "code",
      "source": [
        "import pandas as pd\n",
        "\n",
        "# Create a sample DataFrame\n",
        "data = {\n",
        "  'Name': ['Alice', 'Bob', 'Charlie', 'David'],\n",
        "  'Score': [85, 92, 78, 88]\n",
        "}\n",
        "\n",
        "df = pd.DataFrame(data)\n",
        "\n",
        "# Add a new column 'Grade' based on the 'Score'\n",
        "df['Grade'] = df['Score'].apply(\n",
        "  lambda x: 'A' if x >= 90 else 'B' if x >= 80 else 'C'\n",
        ")\n",
        "\n",
        "print(df)"
      ],
      "metadata": {
        "colab": {
          "base_uri": "https://localhost:8080/"
        },
        "id": "B9aRruPNU1qD",
        "outputId": "94ad052e-6591-4ef0-8c8d-39ee8a26dd71"
      },
      "execution_count": 7,
      "outputs": [
        {
          "output_type": "stream",
          "name": "stdout",
          "text": [
            "      Name  Score Grade\n",
            "0    Alice     85     B\n",
            "1      Bob     92     A\n",
            "2  Charlie     78     C\n",
            "3    David     88     B\n"
          ]
        }
      ]
    },
    {
      "cell_type": "markdown",
      "source": [
        "**Question 7.** Write a program to perform element-wise multiplication of two NumPy arrays."
      ],
      "metadata": {
        "id": "sqgx4Eq4VVSK"
      }
    },
    {
      "cell_type": "code",
      "source": [
        "import numpy as np\n",
        "\n",
        "# Create two NumPy arrays\n",
        "A = np.array([1, 2, 3, 4])\n",
        "B = np.array([5, 6, 7, 8])\n",
        "\n",
        "# Perform element-wise multiplication\n",
        "result = A * B\n",
        "\n",
        "print(\"Array A:\", A)\n",
        "print(\"Array B:\", B)\n",
        "print(\"Element-wise multiplication:\", result)"
      ],
      "metadata": {
        "colab": {
          "base_uri": "https://localhost:8080/"
        },
        "id": "rnhumaxuVQFh",
        "outputId": "e224158d-de91-4819-9cb2-8a7a06bd6119"
      },
      "execution_count": 8,
      "outputs": [
        {
          "output_type": "stream",
          "name": "stdout",
          "text": [
            "Array A: [1 2 3 4]\n",
            "Array B: [5 6 7 8]\n",
            "Element-wise multiplication: [ 5 12 21 32]\n"
          ]
        }
      ]
    },
    {
      "cell_type": "markdown",
      "source": [
        "**Question 8.** Create a line plot with multiple lines using Matplotlib."
      ],
      "metadata": {
        "id": "-tPWJ-QdVg45"
      }
    },
    {
      "cell_type": "code",
      "source": [
        "import matplotlib.pyplot as plt\n",
        "\n",
        "# Sample data\n",
        "years = [2018, 2019, 2020, 2021, 2022]\n",
        "sales_A = [100, 120, 130, 150, 170]\n",
        "sales_B = [90, 110, 125, 140, 160]\n",
        "\n",
        "# Create the plot\n",
        "plt.plot(years, sales_A, label='Product A', marker='o', color='blue')\n",
        "plt.plot(years, sales_B, label='Product B', marker='s', color='green')\n",
        "\n",
        "# Add titles and labels\n",
        "plt.title('Yearly Sales Comparison')\n",
        "plt.xlabel('Year')\n",
        "plt.ylabel('Sales')\n",
        "plt.legend()\n",
        "plt.grid(True)\n",
        "\n",
        "# Show the plot\n",
        "plt.show()"
      ],
      "metadata": {
        "colab": {
          "base_uri": "https://localhost:8080/",
          "height": 472
        },
        "id": "R20Xl71OVeIS",
        "outputId": "3aa1c174-6e3d-4f3b-84b0-006eac525586"
      },
      "execution_count": 9,
      "outputs": [
        {
          "output_type": "display_data",
          "data": {
            "text/plain": [
              "<Figure size 640x480 with 1 Axes>"
            ],
            "image/png": "[encoded data removed]"
          },
          "metadata": {}
        }
      ]
    },
    {
      "cell_type": "markdown",
      "source": [
        "**Question 9.** Generate a Pandas DataFrame and filter rows where a column value is greater than a threshold."
      ],
      "metadata": {
        "id": "u9pRCb_hWEly"
      }
    },
    {
      "cell_type": "code",
      "source": [
        "import pandas as pd\n",
        "\n",
        "# Create a sample DataFrame\n",
        "data = {\n",
        "  'Name': ['Alice', 'Bob', 'Charlie', 'David', 'Eve'],\n",
        "  'Age': [24, 30, 22, 35, 28],\n",
        "  'Score': [85, 90, 78, 92, 88]\n",
        "}\n",
        "\n",
        "df = pd.DataFrame(data)\n",
        "\n",
        "# Define the threshold\n",
        "threshold = 25\n",
        "\n",
        "# Filter rows where 'Age' is greater than the threshold\n",
        "filtered_df = df[df['Age'] > threshold]\n",
        "\n",
        "print(filtered_df)"
      ],
      "metadata": {
        "colab": {
          "base_uri": "https://localhost:8080/"
        },
        "id": "X5VvLcvDVwrZ",
        "outputId": "13294d08-14d7-4387-fab9-ca6c5827cc01"
      },
      "execution_count": 10,
      "outputs": [
        {
          "output_type": "stream",
          "name": "stdout",
          "text": [
            "    Name  Age  Score\n",
            "1    Bob   30     90\n",
            "3  David   35     92\n",
            "4    Eve   28     88\n"
          ]
        }
      ]
    },
    {
      "cell_type": "markdown",
      "source": [
        "**Question 10.** Create a histogram using Seaborn to visualize a distribution."
      ],
      "metadata": {
        "id": "pNxXXqq2WXXV"
      }
    },
    {
      "cell_type": "code",
      "source": [
        "import pandas as pd\n",
        "import seaborn as sns\n",
        "import matplotlib.pyplot as plt\n",
        "\n",
        "# Sample DataFrame\n",
        "data = {\n",
        "  'Name': ['Alice', 'Bob', 'Charlie', 'David', 'Eve'],\n",
        "  'Age': [24, 30, 22, 35, 28],\n",
        "  'Score': [85, 90, 78, 92, 88]\n",
        "}\n",
        "\n",
        "df = pd.DataFrame(data)\n",
        "\n",
        "# Create a histogram of the 'Age' column\n",
        "sns.histplot(df['Age'], bins=5, kde=True)\n",
        "\n",
        "# Add titles and labels\n",
        "plt.title('Age Distribution')\n",
        "plt.xlabel('Age')\n",
        "plt.ylabel('Frequency')\n",
        "\n",
        "# Show plot\n",
        "plt.show()"
      ],
      "metadata": {
        "colab": {
          "base_uri": "https://localhost:8080/",
          "height": 472
        },
        "id": "5QWMDx72WLxY",
        "outputId": "ee02e758-7ea3-4a6c-b764-5da68a064597"
      },
      "execution_count": 11,
      "outputs": [
        {
          "output_type": "display_data",
          "data": {
            "text/plain": [
              "<Figure size 640x480 with 1 Axes>"
            ],
            "image/png": "[encoded data removed]"
          },
          "metadata": {}
        }
      ]
    },
    {
      "cell_type": "markdown",
      "source": [
        "**Question 11.** Perform matrix multiplication using NumPy."
      ],
      "metadata": {
        "id": "uPDdCg4mWl7X"
      }
    },
    {
      "cell_type": "code",
      "source": [
        "import numpy as np\n",
        "\n",
        "# Define two matrices\n",
        "A = np.array([[1, 2],\n",
        "              [3, 4]])\n",
        "\n",
        "B = np.array([[5, 6],\n",
        "              [7, 8]])\n",
        "\n",
        "# Perform matrix multiplication\n",
        "C = np.dot(A, B)\n",
        "\n",
        "print(C)"
      ],
      "metadata": {
        "colab": {
          "base_uri": "https://localhost:8080/"
        },
        "id": "8o3GFt4NWVmo",
        "outputId": "3ca1341e-868c-4c7e-8127-4f5f038a122a"
      },
      "execution_count": 12,
      "outputs": [
        {
          "output_type": "stream",
          "name": "stdout",
          "text": [
            "[[19 22]\n",
            " [43 50]]\n"
          ]
        }
      ]
    },
    {
      "cell_type": "markdown",
      "source": [
        "**Question 12.** Use Pandas to load a CSV file and display its first 5 rows."
      ],
      "metadata": {
        "id": "dcj-maazXM2z"
      }
    },
    {
      "cell_type": "code",
      "source": [
        "import pandas as pd\n",
        "\n",
        "# Sample data with 15 rows\n",
        "data = {\n",
        "  'Name': ['Alice', 'Bob', 'Charlie', 'David', 'Eve',\n",
        "           'Frank', 'Grace', 'Hannah', 'Ian', 'Jane',\n",
        "           'Kevin', 'Laura', 'Mike', 'Nina', 'Oscar'],\n",
        "  'Age': [24, 30, 22, 35, 28,\n",
        "          40, 27, 23, 31, 29,\n",
        "          33, 26, 38, 25, 34],\n",
        "  'Score': [85, 90, 78, 92, 88,\n",
        "            80, 95, 77, 85, 89,\n",
        "            91, 83, 87, 79, 90]\n",
        "}\n",
        "\n",
        "# Create DataFrame\n",
        "df = pd.DataFrame(data)\n",
        "\n",
        "# Save to CSV without the index column\n",
        "df.to_csv('your_file.csv', index=False)"
      ],
      "metadata": {
        "id": "M2QZnOwMWxyZ"
      },
      "execution_count": 13,
      "outputs": []
    },
    {
      "cell_type": "code",
      "source": [
        "import pandas as pd\n",
        "\n",
        "# Load the CSV file into a DataFrame\n",
        "df = pd.read_csv('your_file.csv')\n",
        "\n",
        "# Display the first 5 rows\n",
        "print(df.head())"
      ],
      "metadata": {
        "colab": {
          "base_uri": "https://localhost:8080/"
        },
        "id": "BtQx1mbGXTYH",
        "outputId": "bc59537a-329a-4185-c932-c163ccf7de83"
      },
      "execution_count": 14,
      "outputs": [
        {
          "output_type": "stream",
          "name": "stdout",
          "text": [
            "      Name  Age  Score\n",
            "0    Alice   24     85\n",
            "1      Bob   30     90\n",
            "2  Charlie   22     78\n",
            "3    David   35     92\n",
            "4      Eve   28     88\n"
          ]
        }
      ]
    },
    {
      "cell_type": "markdown",
      "source": [
        "**Question 13.** Create a 3D scatter plot using Plotly."
      ],
      "metadata": {
        "id": "6UGiRc5RXkdZ"
      }
    },
    {
      "cell_type": "code",
      "source": [
        "import plotly.express as px\n",
        "import pandas as pd\n",
        "\n",
        "# Sample data\n",
        "data = {\n",
        "  'x': [1, 2, 3, 4, 5, 6, 7, 8, 9, 10],\n",
        "  'y': [10, 9, 8, 7, 6, 5, 4, 3, 2, 1],\n",
        "  'z': [5, 6, 7, 8, 7, 6, 5, 4, 3, 2],\n",
        "  'category': ['A', 'B', 'A', 'B', 'A', 'B', 'A', 'B', 'A', 'B']\n",
        "}\n",
        "\n",
        "df = pd.DataFrame(data)\n",
        "\n",
        "# Create 3D scatter plot\n",
        "fig = px.scatter_3d(df, x='x', y='y', z='z', color='category', size='x', title='3D Scatter Plot Example')\n",
        "\n",
        "fig.show()"
      ],
      "metadata": {
        "colab": {
          "base_uri": "https://localhost:8080/",
          "height": 542
        },
        "id": "mDl9KwG9XWw0",
        "outputId": "6f123ab9-ab07-4e90-b19e-e0cf84ff7574"
      },
      "execution_count": 15,
      "outputs": [
        {
          "output_type": "display_data",
          "data": {
            "text/html": [
              "<html>\n",
              "<head><meta charset=\"utf-8\" /></head>\n",
              "<body>\n",
              "    <div>            <script src=\"https://cdnjs.cloudflare.com/ajax/libs/mathjax/2.7.5/MathJax.js?config=TeX-AMS-MML_SVG\"></script><script type=\"text/javascript\">if (window.MathJax && window.MathJax.Hub && window.MathJax.Hub.Config) {window.MathJax.Hub.Config({SVG: {font: \"STIX-Web\"}});}</script>                <script type=\"text/javascript\">window.PlotlyConfig = {MathJaxConfig: 'local'};</script>\n",
              "        <script charset=\"utf-8\" src=\"https://cdn.plot.ly/plotly-2.35.2.min.js\"></script>                <div id=\"6fe1d94f-907c-4d8d-b16b-eed4a840a0ec\" class=\"plotly-graph-div\" style=\"height:525px; width:100%;\"></div>            <script type=\"text/javascript\">                                    window.PLOTLYENV=window.PLOTLYENV || {};                                    if (document.getElementById(\"6fe1d94f-907c-4d8d-b16b-eed4a840a0ec\")) {                    Plotly.newPlot(                        \"6fe1d94f-907c-4d8d-b16b-eed4a840a0ec\",                        [{\"hovertemplate\":\"category=A\\u003cbr\\u003ex=%{marker.size}\\u003cbr\\u003ey=%{y}\\u003cbr\\u003ez=%{z}\\u003cextra\\u003e\\u003c\\u002fextra\\u003e\",\"legendgroup\":\"A\",\"marker\":{\"color\":\"#636efa\",\"size\":[1,3,5,7,9],\"sizemode\":\"area\",\"sizeref\":0.025,\"symbol\":\"circle\"},\"mode\":\"markers\",\"name\":\"A\",\"scene\":\"scene\",\"showlegend\":true,\"x\":[1,3,5,7,9],\"y\":[10,8,6,4,2],\"z\":[5,7,7,5,3],\"type\":\"scatter3d\"},{\"hovertemplate\":\"category=B\\u003cbr\\u003ex=%{marker.size}\\u003cbr\\u003ey=%{y}\\u003cbr\\u003ez=%{z}\\u003cextra\\u003e\\u003c\\u002fextra\\u003e\",\"legendgroup\":\"B\",\"marker\":{\"color\":\"#EF553B\",\"size\":[2,4,6,8,10],\"sizemode\":\"area\",\"sizeref\":0.025,\"symbol\":\"circle\"},\"mode\":\"markers\",\"name\":\"B\",\"scene\":\"scene\",\"showlegend\":true,\"x\":[2,4,6,8,10],\"y\":[9,7,5,3,1],\"z\":[6,8,6,4,2],\"type\":\"scatter3d\"}],                        {\"template\":{\"data\":{\"histogram2dcontour\":[{\"type\":\"histogram2dcontour\",\"colorbar\":{\"outlinewidth\":0,\"ticks\":\"\"},\"colorscale\":[[0.0,\"#0d0887\"],[0.1111111111111111,\"#46039f\"],[0.2222222222222222,\"#7201a8\"],[0.3333333333333333,\"#9c179e\"],[0.4444444444444444,\"#bd3786\"],[0.5555555555555556,\"#d8576b\"],[0.6666666666666666,\"#ed7953\"],[0.7777777777777778,\"#fb9f3a\"],[0.8888888888888888,\"#fdca26\"],[1.0,\"#f0f921\"]]}],\"choropleth\":[{\"type\":\"choropleth\",\"colorbar\":{\"outlinewidth\":0,\"ticks\":\"\"}}],\"histogram2d\":[{\"type\":\"histogram2d\",\"colorbar\":{\"outlinewidth\":0,\"ticks\":\"\"},\"colorscale\":[[0.0,\"#0d0887\"],[0.1111111111111111,\"#46039f\"],[0.2222222222222222,\"#7201a8\"],[0.3333333333333333,\"#9c179e\"],[0.4444444444444444,\"#bd3786\"],[0.5555555555555556,\"#d8576b\"],[0.6666666666666666,\"#ed7953\"],[0.7777777777777778,\"#fb9f3a\"],[0.8888888888888888,\"#fdca26\"],[1.0,\"#f0f921\"]]}],\"heatmap\":[{\"type\":\"heatmap\",\"colorbar\":{\"outlinewidth\":0,\"ticks\":\"\"},\"colorscale\":[[0.0,\"#0d0887\"],[0.1111111111111111,\"#46039f\"],[0.2222222222222222,\"#7201a8\"],[0.3333333333333333,\"#9c179e\"],[0.4444444444444444,\"#bd3786\"],[0.5555555555555556,\"#d8576b\"],[0.6666666666666666,\"#ed7953\"],[0.7777777777777778,\"#fb9f3a\"],[0.8888888888888888,\"#fdca26\"],[1.0,\"#f0f921\"]]}],\"heatmapgl\":[{\"type\":\"heatmapgl\",\"colorbar\":{\"outlinewidth\":0,\"ticks\":\"\"},\"colorscale\":[[0.0,\"#0d0887\"],[0.1111111111111111,\"#46039f\"],[0.2222222222222222,\"#7201a8\"],[0.3333333333333333,\"#9c179e\"],[0.4444444444444444,\"#bd3786\"],[0.5555555555555556,\"#d8576b\"],[0.6666666666666666,\"#ed7953\"],[0.7777777777777778,\"#fb9f3a\"],[0.8888888888888888,\"#fdca26\"],[1.0,\"#f0f921\"]]}],\"contourcarpet\":[{\"type\":\"contourcarpet\",\"colorbar\":{\"outlinewidth\":0,\"ticks\":\"\"}}],\"contour\":[{\"type\":\"contour\",\"colorbar\":{\"outlinewidth\":0,\"ticks\":\"\"},\"colorscale\":[[0.0,\"#0d0887\"],[0.1111111111111111,\"#46039f\"],[0.2222222222222222,\"#7201a8\"],[0.3333333333333333,\"#9c179e\"],[0.4444444444444444,\"#bd3786\"],[0.5555555555555556,\"#d8576b\"],[0.6666666666666666,\"#ed7953\"],[0.7777777777777778,\"#fb9f3a\"],[0.8888888888888888,\"#fdca26\"],[1.0,\"#f0f921\"]]}],\"surface\":[{\"type\":\"surface\",\"colorbar\":{\"outlinewidth\":0,\"ticks\":\"\"},\"colorscale\":[[0.0,\"#0d0887\"],[0.1111111111111111,\"#46039f\"],[0.2222222222222222,\"#7201a8\"],[0.3333333333333333,\"#9c179e\"],[0.4444444444444444,\"#bd3786\"],[0.5555555555555556,\"#d8576b\"],[0.6666666666666666,\"#ed7953\"],[0.7777777777777778,\"#fb9f3a\"],[0.8888888888888888,\"#fdca26\"],[1.0,\"#f0f921\"]]}],\"mesh3d\":[{\"type\":\"mesh3d\",\"colorbar\":{\"outlinewidth\":0,\"ticks\":\"\"}}],\"scatter\":[{\"fillpattern\":{\"fillmode\":\"overlay\",\"size\":10,\"solidity\":0.2},\"type\":\"scatter\"}],\"parcoords\":[{\"type\":\"parcoords\",\"line\":{\"colorbar\":{\"outlinewidth\":0,\"ticks\":\"\"}}}],\"scatterpolargl\":[{\"type\":\"scatterpolargl\",\"marker\":{\"colorbar\":{\"outlinewidth\":0,\"ticks\":\"\"}}}],\"bar\":[{\"error_x\":{\"color\":\"#2a3f5f\"},\"error_y\":{\"color\":\"#2a3f5f\"},\"marker\":{\"line\":{\"color\":\"#E5ECF6\",\"width\":0.5},\"pattern\":{\"fillmode\":\"overlay\",\"size\":10,\"solidity\":0.2}},\"type\":\"bar\"}],\"scattergeo\":[{\"type\":\"scattergeo\",\"marker\":{\"colorbar\":{\"outlinewidth\":0,\"ticks\":\"\"}}}],\"scatterpolar\":[{\"type\":\"scatterpolar\",\"marker\":{\"colorbar\":{\"outlinewidth\":0,\"ticks\":\"\"}}}],\"histogram\":[{\"marker\":{\"pattern\":{\"fillmode\":\"overlay\",\"size\":10,\"solidity\":0.2}},\"type\":\"histogram\"}],\"scattergl\":[{\"type\":\"scattergl\",\"marker\":{\"colorbar\":{\"outlinewidth\":0,\"ticks\":\"\"}}}],\"scatter3d\":[{\"type\":\"scatter3d\",\"line\":{\"colorbar\":{\"outlinewidth\":0,\"ticks\":\"\"}},\"marker\":{\"colorbar\":{\"outlinewidth\":0,\"ticks\":\"\"}}}],\"scattermapbox\":[{\"type\":\"scattermapbox\",\"marker\":{\"colorbar\":{\"outlinewidth\":0,\"ticks\":\"\"}}}],\"scatterternary\":[{\"type\":\"scatterternary\",\"marker\":{\"colorbar\":{\"outlinewidth\":0,\"ticks\":\"\"}}}],\"scattercarpet\":[{\"type\":\"scattercarpet\",\"marker\":{\"colorbar\":{\"outlinewidth\":0,\"ticks\":\"\"}}}],\"carpet\":[{\"aaxis\":{\"endlinecolor\":\"#2a3f5f\",\"gridcolor\":\"white\",\"linecolor\":\"white\",\"minorgridcolor\":\"white\",\"startlinecolor\":\"#2a3f5f\"},\"baxis\":{\"endlinecolor\":\"#2a3f5f\",\"gridcolor\":\"white\",\"linecolor\":\"white\",\"minorgridcolor\":\"white\",\"startlinecolor\":\"#2a3f5f\"},\"type\":\"carpet\"}],\"table\":[{\"cells\":{\"fill\":{\"color\":\"#EBF0F8\"},\"line\":{\"color\":\"white\"}},\"header\":{\"fill\":{\"color\":\"#C8D4E3\"},\"line\":{\"color\":\"white\"}},\"type\":\"table\"}],\"barpolar\":[{\"marker\":{\"line\":{\"color\":\"#E5ECF6\",\"width\":0.5},\"pattern\":{\"fillmode\":\"overlay\",\"size\":10,\"solidity\":0.2}},\"type\":\"barpolar\"}],\"pie\":[{\"automargin\":true,\"type\":\"pie\"}]},\"layout\":{\"autotypenumbers\":\"strict\",\"colorway\":[\"#636efa\",\"#EF553B\",\"#00cc96\",\"#ab63fa\",\"#FFA15A\",\"#19d3f3\",\"#FF6692\",\"#B6E880\",\"#FF97FF\",\"#FECB52\"],\"font\":{\"color\":\"#2a3f5f\"},\"hovermode\":\"closest\",\"hoverlabel\":{\"align\":\"left\"},\"paper_bgcolor\":\"white\",\"plot_bgcolor\":\"#E5ECF6\",\"polar\":{\"bgcolor\":\"#E5ECF6\",\"angularaxis\":{\"gridcolor\":\"white\",\"linecolor\":\"white\",\"ticks\":\"\"},\"radialaxis\":{\"gridcolor\":\"white\",\"linecolor\":\"white\",\"ticks\":\"\"}},\"ternary\":{\"bgcolor\":\"#E5ECF6\",\"aaxis\":{\"gridcolor\":\"white\",\"linecolor\":\"white\",\"ticks\":\"\"},\"baxis\":{\"gridcolor\":\"white\",\"linecolor\":\"white\",\"ticks\":\"\"},\"caxis\":{\"gridcolor\":\"white\",\"linecolor\":\"white\",\"ticks\":\"\"}},\"coloraxis\":{\"colorbar\":{\"outlinewidth\":0,\"ticks\":\"\"}},\"colorscale\":{\"sequential\":[[0.0,\"#0d0887\"],[0.1111111111111111,\"#46039f\"],[0.2222222222222222,\"#7201a8\"],[0.3333333333333333,\"#9c179e\"],[0.4444444444444444,\"#bd3786\"],[0.5555555555555556,\"#d8576b\"],[0.6666666666666666,\"#ed7953\"],[0.7777777777777778,\"#fb9f3a\"],[0.8888888888888888,\"#fdca26\"],[1.0,\"#f0f921\"]],\"sequentialminus\":[[0.0,\"#0d0887\"],[0.1111111111111111,\"#46039f\"],[0.2222222222222222,\"#7201a8\"],[0.3333333333333333,\"#9c179e\"],[0.4444444444444444,\"#bd3786\"],[0.5555555555555556,\"#d8576b\"],[0.6666666666666666,\"#ed7953\"],[0.7777777777777778,\"#fb9f3a\"],[0.8888888888888888,\"#fdca26\"],[1.0,\"#f0f921\"]],\"diverging\":[[0,\"#8e0152\"],[0.1,\"#c51b7d\"],[0.2,\"#de77ae\"],[0.3,\"#f1b6da\"],[0.4,\"#fde0ef\"],[0.5,\"#f7f7f7\"],[0.6,\"#e6f5d0\"],[0.7,\"#b8e186\"],[0.8,\"#7fbc41\"],[0.9,\"#4d9221\"],[1,\"#276419\"]]},\"xaxis\":{\"gridcolor\":\"white\",\"linecolor\":\"white\",\"ticks\":\"\",\"title\":{\"standoff\":15},\"zerolinecolor\":\"white\",\"automargin\":true,\"zerolinewidth\":2},\"yaxis\":{\"gridcolor\":\"white\",\"linecolor\":\"white\",\"ticks\":\"\",\"title\":{\"standoff\":15},\"zerolinecolor\":\"white\",\"automargin\":true,\"zerolinewidth\":2},\"scene\":{\"xaxis\":{\"backgroundcolor\":\"#E5ECF6\",\"gridcolor\":\"white\",\"linecolor\":\"white\",\"showbackground\":true,\"ticks\":\"\",\"zerolinecolor\":\"white\",\"gridwidth\":2},\"yaxis\":{\"backgroundcolor\":\"#E5ECF6\",\"gridcolor\":\"white\",\"linecolor\":\"white\",\"showbackground\":true,\"ticks\":\"\",\"zerolinecolor\":\"white\",\"gridwidth\":2},\"zaxis\":{\"backgroundcolor\":\"#E5ECF6\",\"gridcolor\":\"white\",\"linecolor\":\"white\",\"showbackground\":true,\"ticks\":\"\",\"zerolinecolor\":\"white\",\"gridwidth\":2}},\"shapedefaults\":{\"line\":{\"color\":\"#2a3f5f\"}},\"annotationdefaults\":{\"arrowcolor\":\"#2a3f5f\",\"arrowhead\":0,\"arrowwidth\":1},\"geo\":{\"bgcolor\":\"white\",\"landcolor\":\"#E5ECF6\",\"subunitcolor\":\"white\",\"showland\":true,\"showlakes\":true,\"lakecolor\":\"white\"},\"title\":{\"x\":0.05},\"mapbox\":{\"style\":\"light\"}}},\"scene\":{\"domain\":{\"x\":[0.0,1.0],\"y\":[0.0,1.0]},\"xaxis\":{\"title\":{\"text\":\"x\"}},\"yaxis\":{\"title\":{\"text\":\"y\"}},\"zaxis\":{\"title\":{\"text\":\"z\"}}},\"legend\":{\"title\":{\"text\":\"category\"},\"tracegroupgap\":0,\"itemsizing\":\"constant\"},\"title\":{\"text\":\"3D Scatter Plot Example\"}},                        {\"responsive\": true}                    ).then(function(){\n",
              "                            \n",
              "var gd = document.getElementById('6fe1d94f-907c-4d8d-b16b-eed4a840a0ec');\n",
              "var x = new MutationObserver(function (mutations, observer) {{\n",
              "        var display = window.getComputedStyle(gd).display;\n",
              "        if (!display || display === 'none') {{\n",
              "            console.log([gd, 'removed!']);\n",
              "            Plotly.purge(gd);\n",
              "            observer.disconnect();\n",
              "        }}\n",
              "}});\n",
              "\n",
              "// Listen for the removal of the full notebook cells\n",
              "var notebookContainer = gd.closest('#notebook-container');\n",
              "if (notebookContainer) {{\n",
              "    x.observe(notebookContainer, {childList: true});\n",
              "}}\n",
              "\n",
              "// Listen for the clearing of the current output cell\n",
              "var outputEl = gd.closest('.output');\n",
              "if (outputEl) {{\n",
              "    x.observe(outputEl, {childList: true});\n",
              "}}\n",
              "\n",
              "                        })                };                            </script>        </div>\n",
              "</body>\n",
              "</html>"
            ]
          },
          "metadata": {}
        }
      ]
    }
  ]
}